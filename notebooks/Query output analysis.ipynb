{
 "cells": [
  {
   "cell_type": "code",
   "execution_count": 1,
   "id": "85b7a2d8",
   "metadata": {},
   "outputs": [],
   "source": [
    "import collections\n",
    "import csv\n",
    "import itertools\n",
    "import matplotlib.pyplot as plt\n",
    "import json\n",
    "import os\n",
    "import pathlib\n",
    "\n",
    "import pandas as pd\n",
    "\n",
    "CSV_FILE = pathlib.Path(\"/Users/shinewu/tmp/query_output_start_0401.csv\")"
   ]
  },
  {
   "cell_type": "code",
   "execution_count": 29,
   "id": "0a87a4bf",
   "metadata": {},
   "outputs": [],
   "source": [
    "import snowflake.connector as sf_conn\n",
    "\n",
    "_SNOWFLAKE_CONTEXT = None\n",
    "\n",
    "\n",
    "def snowflake_run_query(sql):\n",
    "    global _SNOWFLAKE_CONTEXT\n",
    "    if _SNOWFLAKE_CONTEXT is None:\n",
    "        _SNOWFLAKE_CONTEXT = sf_conn.connect(\n",
    "            user=\"xiang_wu\",\n",
    "            password=os.getenv(\"SNOWFLAKE_PASSWORD\"),\n",
    "            account=\"opensea.us-east-1\",\n",
    "        )\n",
    "\n",
    "    cs = _SNOWFLAKE_CONTEXT.cursor()\n",
    "    cs.execute(sql)\n",
    "    return cs.fetch_pandas_all()"
   ]
  },
  {
   "cell_type": "code",
   "execution_count": 57,
   "id": "a74b620b",
   "metadata": {},
   "outputs": [
    {
     "name": "stdout",
     "output_type": "stream",
     "text": [
      "\n",
      "    WITH \n",
      "    \n",
      "    sales_by_dollar AS (\n",
      "      SELECT\n",
      "        winner_account_id,\n",
      "        collection_id,\n",
      "        event_timestamp,\n",
      "        total_usd,\n",
      "        RANK() OVER (\n",
      "          PARTITION BY winner_account_id\n",
      "          ORDER BY\n",
      "            total_usd DESC\n",
      "        ) AS dollar_rank\n",
      "      FROM\n",
      "        dbt_dwh.public.dim_transaction\n",
      "      WHERE\n",
      "        event_timestamp >= '2022-03-01 00:00:00'\n",
      "        AND event_timestamp <= '2022-05-31 23:59:59'\n",
      "    ),\n",
      "    \n",
      "    sales_by_timestamp AS (\n",
      "      SELECT\n",
      "        winner_account_id,\n",
      "        collection_id,\n",
      "        event_timestamp,\n",
      "        total_usd,\n",
      "        RANK() OVER (\n",
      "          PARTITION BY winner_account_id\n",
      "          ORDER BY\n",
      "            event_timestamp DESC\n",
      "        ) AS time_rank\n",
      "      FROM\n",
      "        sales_by_dollar\n",
      "      WHERE\n",
      "        dollar_rank <= 100\n",
      "    )\n",
      "    \n",
      "    --\n",
      "    \n",
      "    SELECT\n",
      "      winner_account_id,\n",
      "      collection_id,\n",
      "      event_timestamp,\n",
      "      total_usd\n",
      "    FROM\n",
      "      sales_by_timestamp\n",
      "    WHERE\n",
      "      time_rank <= 50\n",
      "\n"
     ]
    }
   ],
   "source": [
    "PURCHASE_START_DATE = \"2022-03-01\"\n",
    "PURCHASE_STOP_DATE = \"2022-05-31\"\n",
    "DOLLAR_TOP_K = 100\n",
    "TIME_TOP_K = 50\n",
    "\n",
    "PURCHASE_SEQ_SQL = f\"\"\"\n",
    "    WITH \n",
    "    \n",
    "    sales_by_dollar AS (\n",
    "      SELECT\n",
    "        winner_account_id,\n",
    "        collection_id,\n",
    "        event_timestamp,\n",
    "        total_usd,\n",
    "        RANK() OVER (\n",
    "          PARTITION BY winner_account_id\n",
    "          ORDER BY\n",
    "            total_usd DESC\n",
    "        ) AS dollar_rank\n",
    "      FROM\n",
    "        dbt_dwh.public.dim_transaction\n",
    "      WHERE\n",
    "        event_timestamp >= '{PURCHASE_START_DATE} 00:00:00'\n",
    "        AND event_timestamp <= '{PURCHASE_STOP_DATE} 23:59:59'\n",
    "    ),\n",
    "    \n",
    "    sales_by_timestamp AS (\n",
    "      SELECT\n",
    "        winner_account_id,\n",
    "        collection_id,\n",
    "        event_timestamp,\n",
    "        total_usd,\n",
    "        RANK() OVER (\n",
    "          PARTITION BY winner_account_id\n",
    "          ORDER BY\n",
    "            event_timestamp DESC\n",
    "        ) AS time_rank\n",
    "      FROM\n",
    "        sales_by_dollar\n",
    "      WHERE\n",
    "        dollar_rank <= {DOLLAR_TOP_K}\n",
    "    )\n",
    "    \n",
    "    --\n",
    "    \n",
    "    SELECT\n",
    "      winner_account_id,\n",
    "      collection_id,\n",
    "      event_timestamp,\n",
    "      total_usd\n",
    "    FROM\n",
    "      sales_by_timestamp\n",
    "    WHERE\n",
    "      time_rank <= {TIME_TOP_K}\n",
    "\"\"\"\n",
    "\n",
    "print(PURCHASE_SEQ_SQL)"
   ]
  },
  {
   "cell_type": "code",
   "execution_count": 58,
   "id": "1da14bde",
   "metadata": {},
   "outputs": [],
   "source": [
    "RUN_SQL = True\n",
    "RAW_TRAINING_DF_FILE = pathlib.Path(\n",
    "    f\"/Users/shinewu/tmp/raw_training_df_{PURCHASE_START_DATE}_{PURCHASE_STOP_DATE}.pickle\"\n",
    ")\n",
    "\n",
    "if RUN_SQL:\n",
    "    RAW_TRAINING_DF = snowflake_run_query(PURCHASE_SEQ_SQL)\n",
    "    RAW_TRAINING_DF.to_pickle(RAW_TRAINING_DF_FILE)\n",
    "else:\n",
    "    RAW_TRAINING_DF = pd.read_pickle(RAW_TRAINING_DF_FILE)"
   ]
  },
  {
   "cell_type": "code",
   "execution_count": 59,
   "id": "2b1d012e",
   "metadata": {},
   "outputs": [
    {
     "data": {
      "text/html": [
       "<div>\n",
       "<style scoped>\n",
       "    .dataframe tbody tr th:only-of-type {\n",
       "        vertical-align: middle;\n",
       "    }\n",
       "\n",
       "    .dataframe tbody tr th {\n",
       "        vertical-align: top;\n",
       "    }\n",
       "\n",
       "    .dataframe thead th {\n",
       "        text-align: right;\n",
       "    }\n",
       "</style>\n",
       "<table border=\"1\" class=\"dataframe\">\n",
       "  <thead>\n",
       "    <tr style=\"text-align: right;\">\n",
       "      <th></th>\n",
       "      <th>WINNER_ACCOUNT_ID</th>\n",
       "      <th>COLLECTION_ID</th>\n",
       "      <th>EVENT_TIMESTAMP</th>\n",
       "      <th>TOTAL_USD</th>\n",
       "    </tr>\n",
       "  </thead>\n",
       "  <tbody>\n",
       "    <tr>\n",
       "      <th>0</th>\n",
       "      <td>240593334</td>\n",
       "      <td>13776805</td>\n",
       "      <td>2022-04-23 12:51:14-07:00</td>\n",
       "      <td>413.967119</td>\n",
       "    </tr>\n",
       "    <tr>\n",
       "      <th>1</th>\n",
       "      <td>240593334</td>\n",
       "      <td>2960355</td>\n",
       "      <td>2022-04-22 20:53:17-07:00</td>\n",
       "      <td>1478.193758</td>\n",
       "    </tr>\n",
       "    <tr>\n",
       "      <th>2</th>\n",
       "      <td>240593334</td>\n",
       "      <td>2960355</td>\n",
       "      <td>2022-04-08 09:52:42-07:00</td>\n",
       "      <td>2155.556080</td>\n",
       "    </tr>\n",
       "    <tr>\n",
       "      <th>3</th>\n",
       "      <td>240593334</td>\n",
       "      <td>12682876</td>\n",
       "      <td>2022-04-05 20:26:41-07:00</td>\n",
       "      <td>328.156168</td>\n",
       "    </tr>\n",
       "    <tr>\n",
       "      <th>4</th>\n",
       "      <td>240593334</td>\n",
       "      <td>7446982</td>\n",
       "      <td>2022-04-05 06:05:17-07:00</td>\n",
       "      <td>386.935835</td>\n",
       "    </tr>\n",
       "  </tbody>\n",
       "</table>\n",
       "</div>"
      ],
      "text/plain": [
       "   WINNER_ACCOUNT_ID  COLLECTION_ID           EVENT_TIMESTAMP    TOTAL_USD\n",
       "0          240593334       13776805 2022-04-23 12:51:14-07:00   413.967119\n",
       "1          240593334        2960355 2022-04-22 20:53:17-07:00  1478.193758\n",
       "2          240593334        2960355 2022-04-08 09:52:42-07:00  2155.556080\n",
       "3          240593334       12682876 2022-04-05 20:26:41-07:00   328.156168\n",
       "4          240593334        7446982 2022-04-05 06:05:17-07:00   386.935835"
      ]
     },
     "execution_count": 59,
     "metadata": {},
     "output_type": "execute_result"
    }
   ],
   "source": [
    "RAW_TRAINING_DF.head()"
   ]
  },
  {
   "cell_type": "code",
   "execution_count": 60,
   "id": "bb49191e",
   "metadata": {},
   "outputs": [
    {
     "data": {
      "text/plain": [
       "WINNER_ACCOUNT_ID\n",
       "4     [(2022-04-27 11:16:33-07:00, 13646763, 115.082...\n",
       "5     [(2022-03-06 11:12:59-08:00, 934680, 181.48809...\n",
       "9     [(2022-04-06 22:23:43-07:00, 1865802, 93.07451...\n",
       "11    [(2022-05-09 10:25:11-07:00, 829688, 10475.778...\n",
       "12    [(2022-04-04 01:29:08-07:00, 12722887, 2412.23...\n",
       "Name: time_purchase, dtype: object"
      ]
     },
     "execution_count": 60,
     "metadata": {},
     "output_type": "execute_result"
    }
   ],
   "source": [
    "tmp = RAW_TRAINING_DF.copy()\n",
    "tmp = tmp.assign(\n",
    "    time_purchase=pd.Series(\n",
    "        zip(tmp.EVENT_TIMESTAMP, tmp.COLLECTION_ID, tmp.TOTAL_USD)\n",
    "    )\n",
    ")\n",
    "\n",
    "tmp = tmp.groupby([\"WINNER_ACCOUNT_ID\"])[\"time_purchase\"].agg(list)\n",
    "tmp = tmp.apply(lambda x: list(sorted(x)))\n",
    "GROUPED_TRAINING_DF = tmp\n",
    "\n",
    "GROUPED_TRAINING_DF.head()"
   ]
  },
  {
   "cell_type": "code",
   "execution_count": 61,
   "id": "98d38795",
   "metadata": {},
   "outputs": [
    {
     "name": "stdout",
     "output_type": "stream",
     "text": [
      "886063\n"
     ]
    },
    {
     "data": {
      "text/plain": [
       "[(Timestamp('2022-03-06 11:12:59-0800', tz='America/Los_Angeles'),\n",
       "  934680,\n",
       "  181.4880999898262),\n",
       " (Timestamp('2022-03-18 18:07:51-0700', tz='America/Los_Angeles'),\n",
       "  1319215,\n",
       "  178.07913200903144),\n",
       " (Timestamp('2022-04-04 05:20:52-0700', tz='America/Los_Angeles'),\n",
       "  12722887,\n",
       "  2303.0673710590127),\n",
       " (Timestamp('2022-04-14 09:08:25-0700', tz='America/Los_Angeles'),\n",
       "  12882946,\n",
       "  359.1543191937883),\n",
       " (Timestamp('2022-04-14 13:05:19-0700', tz='America/Los_Angeles'),\n",
       "  12882946,\n",
       "  356.6315253004643),\n",
       " (Timestamp('2022-05-08 08:34:15-0700', tz='America/Los_Angeles'),\n",
       "  12882946,\n",
       "  178.43464706635055)]"
      ]
     },
     "execution_count": 61,
     "metadata": {},
     "output_type": "execute_result"
    }
   ],
   "source": [
    "print(len(GROUPED_TRAINING_DF))\n",
    "GROUPED_TRAINING_DF.iloc[1] "
   ]
  },
  {
   "cell_type": "code",
   "execution_count": 80,
   "id": "51603406",
   "metadata": {},
   "outputs": [],
   "source": [
    "def pairs_with_change(row, max_window=3):\n",
    "    n = len(row)\n",
    "    for i in range(n - 1):\n",
    "        for j in range(1, min(n - 1 - i, max_window) + 1):\n",
    "            if row[i][1] != row[i + j][1]:\n",
    "                yield row[i][1], row[i + j][1]\n",
    "                \n",
    "def total_num_pairs(df):\n",
    "    l = df.apply(lambda x: len(x) * (len(x) - 1) // 2)\n",
    "    return l.sum()"
   ]
  },
  {
   "cell_type": "code",
   "execution_count": 81,
   "id": "bec6ce9d",
   "metadata": {},
   "outputs": [
    {
     "name": "stdout",
     "output_type": "stream",
     "text": [
      "59790368 6958230\n"
     ]
    }
   ],
   "source": [
    "ALL_PAIRS = list(itertools.chain(*GROUPED_TRAINING_DF.apply(pairs_with_change)))\n",
    "print(total_num_pairs(GROUPED_TRAINING_DF), len(ALL_PAIRS))"
   ]
  },
  {
   "cell_type": "code",
   "execution_count": 82,
   "id": "1e340af5",
   "metadata": {},
   "outputs": [
    {
     "name": "stdout",
     "output_type": "stream",
     "text": [
      "[(934680, 1319215), (934680, 12722887), (934680, 12882946), (1319215, 12722887), (1319215, 12882946), (1319215, 12882946), (12722887, 12882946), (12722887, 12882946), (12722887, 12882946), (1865802, 2549)]\n"
     ]
    }
   ],
   "source": [
    "print(ALL_PAIRS[:10])"
   ]
  },
  {
   "cell_type": "code",
   "execution_count": 83,
   "id": "15c9654b",
   "metadata": {},
   "outputs": [
    {
     "name": "stdout",
     "output_type": "stream",
     "text": [
      "[(3072, 35337), (8406538, 33414), (8179453, 32604), (8699308, 32561), (14077255, 32424), (8146804, 30850), (12682876, 30548), (8268014, 29542), (8076460, 27547), (14919425, 27075)]\n",
      "[(14077255, 46318), (3072, 46307), (14919425, 36615), (15130764, 31007), (8406538, 29891), (8699308, 28887), (12682876, 28498), (13557287, 28125), (13301160, 26425), (15650945, 26284)]\n"
     ]
    }
   ],
   "source": [
    "left_counter = collections.Counter(x[0] for x in ALL_PAIRS)\n",
    "print(left_counter.most_common()[:10])\n",
    "\n",
    "right_counter = collections.Counter(x[1] for x in ALL_PAIRS)\n",
    "print(right_counter.most_common()[:10])"
   ]
  },
  {
   "cell_type": "code",
   "execution_count": 84,
   "id": "3a54bbf4",
   "metadata": {},
   "outputs": [
    {
     "name": "stdout",
     "output_type": "stream",
     "text": [
      "[((7577462, 8018570), 4241), ((13904886, 14501940), 3775), ((14501940, 14784047), 2857), ((4371060, 2818185), 2826), ((14902164, 14953088), 2618), ((6523817, 6525063), 2543), ((8881972, 13904886), 2521), ((2818185, 4371060), 2278), ((8018570, 7577462), 2237), ((13904886, 14784047), 1985)]\n"
     ]
    }
   ],
   "source": [
    "ALL_PAIR_COUNTER = collections.Counter(ALL_PAIRS)\n",
    "print(ALL_PAIR_COUNTER.most_common()[:10])"
   ]
  },
  {
   "cell_type": "code",
   "execution_count": 95,
   "id": "fddbe16b",
   "metadata": {},
   "outputs": [],
   "source": [
    "def feature_in_select(is_collection, feature_name, feature_rename_to=None):\n",
    "    if feature_rename_to is None:\n",
    "        feature_rename_to = feature_name\n",
    "    table_prefix = (\"a\" if is_collection else \"b\") + \".\"\n",
    "    return f\"{table_prefix}{feature_name} AS {feature_rename_to}\"\n",
    "\n",
    "\n",
    "def fetch_collection_features(today, collection_ids, batch=1000):\n",
    "    col_features = [\"ID\", \"DEFAULT_CHAIN_ID\", \"SLUG\"]\n",
    "    stat_features = [\n",
    "        \"SEVEN_DAY_AVERAGE_PRICE\",\n",
    "        \"THIRTY_DAY_AVERAGE_PRICE\",\n",
    "        \"SEVEN_DAY_CHANGE\",\n",
    "        \"THIRTY_DAY_CHANGE\",\n",
    "        \"SEVEN_DAY_SALES\",\n",
    "        \"THIRTY_DAY_SALES\",\n",
    "        \"SEVEN_DAY_VOLUME\",\n",
    "        \"THIRTY_DAY_VOLUME\",\n",
    "        \"NUM_OWNERS\",\n",
    "        \"TOTAL_SUPPLY\",\n",
    "    ]\n",
    "    features = \",\\n\".join(\n",
    "        [feature_in_select(True, f) for f in col_features]\n",
    "        + [feature_in_select(False, f) for f in stat_features]\n",
    "        + [f\"DATEDIFF(DAY, a.CREATED_DATE, '{today}'::DATE) AS DAYS_FROM_CREATION\"]\n",
    "    )\n",
    "    all_collection_ids = \", \".join(str(i) for i in collection_ids)\n",
    "\n",
    "    sql = f\"\"\"\n",
    "        SELECT\n",
    "          {features}\n",
    "        FROM\n",
    "          PC_FIVETRAN_DB.PUBLIC.API_COLLECTION a\n",
    "          LEFT JOIN PC_FIVETRAN_DB.PUBLIC.API_COLLECTIONSTATS b\n",
    "          ON a.ID = b.COLLECTION_ID\n",
    "        WHERE\n",
    "          a.BLACKLISTED = FALSE\n",
    "          AND a.HIDDEN = FALSE\n",
    "          AND a.IS_DELISTED = FALSE\n",
    "          AND a.IS_LISTABLE = TRUE\n",
    "          AND a.IS_NSFW = FALSE\n",
    "          AND a.ID in ({all_collection_ids})\n",
    "        LIMIT {batch}\n",
    "    \"\"\"\n",
    "    return sql"
   ]
  },
  {
   "cell_type": "code",
   "execution_count": 109,
   "id": "6f9881b1",
   "metadata": {},
   "outputs": [
    {
     "name": "stdout",
     "output_type": "stream",
     "text": [
      "        ID  DEFAULT_CHAIN_ID                         SLUG  \\\n",
      "0  7577462                 3               sunflower-land   \n",
      "1  8018570                 3  sunflower-land-collectibles   \n",
      "\n",
      "   SEVEN_DAY_AVERAGE_PRICE  THIRTY_DAY_AVERAGE_PRICE  SEVEN_DAY_CHANGE  \\\n",
      "0                 0.003703                  0.004656          0.126827   \n",
      "1                 0.014779                  0.015900         -0.193836   \n",
      "\n",
      "   THIRTY_DAY_CHANGE  SEVEN_DAY_SALES  THIRTY_DAY_SALES  SEVEN_DAY_VOLUME  \\\n",
      "0          -0.828713            926.0            6904.0          3.429231   \n",
      "1          -0.508117           1612.0           10471.0         23.823257   \n",
      "\n",
      "   THIRTY_DAY_VOLUME  NUM_OWNERS  TOTAL_SUPPLY  DAYS_FROM_CREATION  \n",
      "0          32.147060    134482.0      143901.0                 103  \n",
      "1         166.493701    150774.0         121.0                  92  \n"
     ]
    }
   ],
   "source": [
    "df = snowflake_run_query(fetch_collection_features(\"2022-05-31\", collection_ids=pair))\n",
    "print(df)"
   ]
  },
  {
   "cell_type": "code",
   "execution_count": 110,
   "id": "bcfceae6",
   "metadata": {},
   "outputs": [
    {
     "name": "stdout",
     "output_type": "stream",
     "text": [
      "sunflower-land -> sunflower-land-collectibles\n",
      "suncity-ape-club-1 -> bearsbulls-fight\n",
      "bearsbulls-fight -> the-cornz\n",
      "crypto-unicorns-land-market -> crypto-unicorns-market\n",
      "raidparty -> raidpartyfighters\n",
      "crypto-unicorns-market -> crypto-unicorns-land-market\n",
      "sunflower-land-collectibles -> sunflower-land\n",
      "suncity-ape-club-1 -> the-cornz\n"
     ]
    }
   ],
   "source": [
    "for pair, count in ALL_PAIR_COUNTER.most_common()[:10]:\n",
    "    df = snowflake_run_query(\n",
    "        fetch_collection_features(\"2022-05-31\", collection_ids=pair)\n",
    "    )\n",
    "    slug_map = dict(zip(df.ID, df.SLUG))\n",
    "    if len(slug_map) == 2:\n",
    "        print(f\"{slug_map[pair[0]]} -> {slug_map[pair[1]]}\")\n",
    "    else:\n",
    "        pass"
   ]
  },
  {
   "cell_type": "code",
   "execution_count": 12,
   "id": "810f759d",
   "metadata": {},
   "outputs": [
    {
     "name": "stdout",
     "output_type": "stream",
     "text": [
      "57784\n"
     ]
    },
    {
     "data": {
      "image/png": "[encoded data removed]",
      "text/plain": [
       "<Figure size 432x288 with 1 Axes>"
      ]
     },
     "metadata": {
      "needs_background": "light"
     },
     "output_type": "display_data"
    }
   ],
   "source": [
    "uniq_cs = uniq_collections(WINNER_TO_COLLECTIONS)\n",
    "print(len(uniq_cs))\n",
    "counts = list(uniq_cs.values())\n",
    "counts.sort(reverse=True)\n",
    "counts = [x for x in counts if x != 1]\n",
    "_ = plt.hist(counts, bins=100)"
   ]
  },
  {
   "cell_type": "code",
   "execution_count": 13,
   "id": "8744e0b0",
   "metadata": {},
   "outputs": [],
   "source": [
    "uniq_cids = list(uniq_cs.keys())\n",
    "batch = 10000\n",
    "dfs = []\n",
    "for batch_start in range(0, len(uniq_cids), batch):\n",
    "    batch_stop = min(batch_start + batch, len(uniq_cids))\n",
    "    batch_sql = fetch_collection_features(\n",
    "        today=\"2022-06-02\",\n",
    "        collection_ids=uniq_cids[batch_start:batch_stop],\n",
    "        batch=batch,\n",
    "    )\n",
    "    dfs.append(snowflake_run_query(batch_sql))\n",
    "ALL_COLLECTION_FEATURES = pd.concat(dfs)"
   ]
  },
  {
   "cell_type": "code",
   "execution_count": 14,
   "id": "167f3927",
   "metadata": {},
   "outputs": [
    {
     "data": {
      "text/html": [
       "<div>\n",
       "<style scoped>\n",
       "    .dataframe tbody tr th:only-of-type {\n",
       "        vertical-align: middle;\n",
       "    }\n",
       "\n",
       "    .dataframe tbody tr th {\n",
       "        vertical-align: top;\n",
       "    }\n",
       "\n",
       "    .dataframe thead th {\n",
       "        text-align: right;\n",
       "    }\n",
       "</style>\n",
       "<table border=\"1\" class=\"dataframe\">\n",
       "  <thead>\n",
       "    <tr style=\"text-align: right;\">\n",
       "      <th></th>\n",
       "      <th>ID</th>\n",
       "      <th>DEFAULT_CHAIN_ID</th>\n",
       "      <th>SLUG</th>\n",
       "      <th>SEVEN_DAY_AVERAGE_PRICE</th>\n",
       "      <th>THIRTY_DAY_AVERAGE_PRICE</th>\n",
       "      <th>SEVEN_DAY_CHANGE</th>\n",
       "      <th>THIRTY_DAY_CHANGE</th>\n",
       "      <th>SEVEN_DAY_SALES</th>\n",
       "      <th>THIRTY_DAY_SALES</th>\n",
       "      <th>SEVEN_DAY_VOLUME</th>\n",
       "      <th>THIRTY_DAY_VOLUME</th>\n",
       "      <th>NUM_OWNERS</th>\n",
       "      <th>TOTAL_SUPPLY</th>\n",
       "      <th>DAYS_FROM_CREATION</th>\n",
       "    </tr>\n",
       "  </thead>\n",
       "  <tbody>\n",
       "    <tr>\n",
       "      <th>0</th>\n",
       "      <td>6052873</td>\n",
       "      <td>1</td>\n",
       "      <td>mip-network</td>\n",
       "      <td>25.435385</td>\n",
       "      <td>30.105000</td>\n",
       "      <td>0.078368</td>\n",
       "      <td>-0.708048</td>\n",
       "      <td>26.0</td>\n",
       "      <td>116.0</td>\n",
       "      <td>661.320</td>\n",
       "      <td>3492.180</td>\n",
       "      <td>4818.0</td>\n",
       "      <td>9575.0</td>\n",
       "      <td>128</td>\n",
       "    </tr>\n",
       "    <tr>\n",
       "      <th>1</th>\n",
       "      <td>6879411</td>\n",
       "      <td>1</td>\n",
       "      <td>donutshop</td>\n",
       "      <td>31.680000</td>\n",
       "      <td>26.171143</td>\n",
       "      <td>-0.783518</td>\n",
       "      <td>-0.705635</td>\n",
       "      <td>5.0</td>\n",
       "      <td>63.0</td>\n",
       "      <td>158.400</td>\n",
       "      <td>1648.782</td>\n",
       "      <td>3416.0</td>\n",
       "      <td>5432.0</td>\n",
       "      <td>117</td>\n",
       "    </tr>\n",
       "    <tr>\n",
       "      <th>2</th>\n",
       "      <td>2200460</td>\n",
       "      <td>1</td>\n",
       "      <td>apparitions-by-aaron-penne</td>\n",
       "      <td>0.000000</td>\n",
       "      <td>2014.071429</td>\n",
       "      <td>-1.000000</td>\n",
       "      <td>-0.430612</td>\n",
       "      <td>0.0</td>\n",
       "      <td>14.0</td>\n",
       "      <td>0.000</td>\n",
       "      <td>28197.000</td>\n",
       "      <td>729.0</td>\n",
       "      <td>1500.0</td>\n",
       "      <td>229</td>\n",
       "    </tr>\n",
       "    <tr>\n",
       "      <th>3</th>\n",
       "      <td>257103</td>\n",
       "      <td>1</td>\n",
       "      <td>punksvoxels</td>\n",
       "      <td>56.876400</td>\n",
       "      <td>77.475284</td>\n",
       "      <td>0.708000</td>\n",
       "      <td>-0.877412</td>\n",
       "      <td>55.0</td>\n",
       "      <td>148.0</td>\n",
       "      <td>3128.202</td>\n",
       "      <td>11466.342</td>\n",
       "      <td>1503.0</td>\n",
       "      <td>9987.0</td>\n",
       "      <td>436</td>\n",
       "    </tr>\n",
       "    <tr>\n",
       "      <th>4</th>\n",
       "      <td>519943</td>\n",
       "      <td>1</td>\n",
       "      <td>low-effort-punks</td>\n",
       "      <td>21.401695</td>\n",
       "      <td>32.671286</td>\n",
       "      <td>0.910663</td>\n",
       "      <td>-0.342246</td>\n",
       "      <td>118.0</td>\n",
       "      <td>140.0</td>\n",
       "      <td>2525.400</td>\n",
       "      <td>4573.980</td>\n",
       "      <td>1282.0</td>\n",
       "      <td>5146.0</td>\n",
       "      <td>399</td>\n",
       "    </tr>\n",
       "  </tbody>\n",
       "</table>\n",
       "</div>"
      ],
      "text/plain": [
       "        ID  DEFAULT_CHAIN_ID                        SLUG  \\\n",
       "0  6052873                 1                 mip-network   \n",
       "1  6879411                 1                   donutshop   \n",
       "2  2200460                 1  apparitions-by-aaron-penne   \n",
       "3   257103                 1                 punksvoxels   \n",
       "4   519943                 1            low-effort-punks   \n",
       "\n",
       "   SEVEN_DAY_AVERAGE_PRICE  THIRTY_DAY_AVERAGE_PRICE  SEVEN_DAY_CHANGE  \\\n",
       "0                25.435385                 30.105000          0.078368   \n",
       "1                31.680000                 26.171143         -0.783518   \n",
       "2                 0.000000               2014.071429         -1.000000   \n",
       "3                56.876400                 77.475284          0.708000   \n",
       "4                21.401695                 32.671286          0.910663   \n",
       "\n",
       "   THIRTY_DAY_CHANGE  SEVEN_DAY_SALES  THIRTY_DAY_SALES  SEVEN_DAY_VOLUME  \\\n",
       "0          -0.708048             26.0             116.0           661.320   \n",
       "1          -0.705635              5.0              63.0           158.400   \n",
       "2          -0.430612              0.0              14.0             0.000   \n",
       "3          -0.877412             55.0             148.0          3128.202   \n",
       "4          -0.342246            118.0             140.0          2525.400   \n",
       "\n",
       "   THIRTY_DAY_VOLUME  NUM_OWNERS  TOTAL_SUPPLY  DAYS_FROM_CREATION  \n",
       "0           3492.180      4818.0        9575.0                 128  \n",
       "1           1648.782      3416.0        5432.0                 117  \n",
       "2          28197.000       729.0        1500.0                 229  \n",
       "3          11466.342      1503.0        9987.0                 436  \n",
       "4           4573.980      1282.0        5146.0                 399  "
      ]
     },
     "execution_count": 14,
     "metadata": {},
     "output_type": "execute_result"
    }
   ],
   "source": [
    "ALL_COLLECTION_FEATURES.head()"
   ]
  }
 ],
 "metadata": {
  "kernelspec": {
   "display_name": "Python 3 (ipykernel)",
   "language": "python",
   "name": "python3"
  },
  "language_info": {
   "codemirror_mode": {
    "name": "ipython",
    "version": 3
   },
   "file_extension": ".py",
   "mimetype": "text/x-python",
   "name": "python",
   "nbconvert_exporter": "python",
   "pygments_lexer": "ipython3",
   "version": "3.7.13"
  }
 },
 "nbformat": 4,
 "nbformat_minor": 5
}
